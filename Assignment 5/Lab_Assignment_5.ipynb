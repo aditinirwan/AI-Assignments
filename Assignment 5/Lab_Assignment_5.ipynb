{
  "nbformat": 4,
  "nbformat_minor": 0,
  "metadata": {
    "colab": {
      "name": "Lab Assignment 5",
      "provenance": [],
      "collapsed_sections": []
    },
    "kernelspec": {
      "name": "python3",
      "display_name": "Python 3"
    },
    "language_info": {
      "name": "python"
    }
  },
  "cells": [
    {
      "cell_type": "code",
      "execution_count": 172,
      "metadata": {
        "id": "VLO-mRE-I-z_"
      },
      "outputs": [],
      "source": [
        "from sklearn import datasets\n",
        "import numpy as np\n",
        "import pandas as pd\n",
        "import csv \n",
        "from sklearn.model_selection import train_test_split \n",
        "from sklearn.neighbors import KNeighborsClassifier\n",
        "from sklearn.linear_model import BayesianRidge\n",
        "from sklearn.tree import DecisionTreeClassifier\n",
        "from sklearn.metrics import accuracy_score"
      ]
    },
    {
      "cell_type": "markdown",
      "source": [
        "**Question 1**\n",
        "\n",
        "Create a dataset (.csv file) having following features- experience of the candidate,\n",
        "written score, interview score and salary. Based on three input features, HR decide\n",
        "the salary of the selected candidates. Using this data, KNN model build a for HR\n",
        "department that can help them decide salaries of the candidates. Print all the possible\n",
        "model evaluation parameters.\n",
        "Also predict the salaries for the following candidates, by executing the model (for\n",
        "different values of K):\n",
        "(a) 5 Yrs experience, 8 written test score, 10 interview score\n",
        "(b) 8 Yrs experience, 7 written test score, 6 interview score"
      ],
      "metadata": {
        "id": "jGmhDsxklCJL"
      }
    },
    {
      "cell_type": "code",
      "source": [
        "dataset = pd.read_csv('/content/dataset.csv')\n",
        "X = dataset.iloc[:, :-1].values #get a copy of dataset exclude last column\n",
        "Y = dataset.iloc[:, -1].values #get array of dataset in last column\n",
        "\n",
        "#splitting of data into train and test\n",
        "xtrain, xtest, ytrain, ytest = train_test_split(X,Y, test_size = 0.10) "
      ],
      "metadata": {
        "id": "G8ISnZtzKy7u"
      },
      "execution_count": 173,
      "outputs": []
    },
    {
      "cell_type": "code",
      "source": [
        "obj=KNeighborsClassifier(n_neighbors=7)\n",
        "obj.fit(xtrain,ytrain)"
      ],
      "metadata": {
        "colab": {
          "base_uri": "https://localhost:8080/"
        },
        "id": "cuLZJsC8go5V",
        "outputId": "15a9fe4d-bf36-4ebd-8125-ebe5730fa0d2"
      },
      "execution_count": 174,
      "outputs": [
        {
          "output_type": "execute_result",
          "data": {
            "text/plain": [
              "KNeighborsClassifier(n_neighbors=7)"
            ]
          },
          "metadata": {},
          "execution_count": 174
        }
      ]
    },
    {
      "cell_type": "code",
      "source": [
        "x=[5,8,10]\n",
        "pred = obj.predict([x])\n",
        "print(\"The salary predicted by the model is: \",pred[0])"
      ],
      "metadata": {
        "colab": {
          "base_uri": "https://localhost:8080/"
        },
        "id": "vbmSzRyYgr1A",
        "outputId": "7af4730d-187c-426a-c530-0776bd688e22"
      },
      "execution_count": 175,
      "outputs": [
        {
          "output_type": "stream",
          "name": "stdout",
          "text": [
            "The salary predicted by the model is:  7000\n"
          ]
        }
      ]
    },
    {
      "cell_type": "code",
      "source": [
        "x=[8,7,6]\n",
        "pred = obj.predict([x])\n",
        "print(\"The salary predicted by the model is: \",pred[0])"
      ],
      "metadata": {
        "id": "idJJ5UtJh6mD",
        "outputId": "5e64a853-ef55-4e95-a480-6f321de2967f",
        "colab": {
          "base_uri": "https://localhost:8080/"
        }
      },
      "execution_count": 176,
      "outputs": [
        {
          "output_type": "stream",
          "name": "stdout",
          "text": [
            "The salary predicted by the model is:  14000\n"
          ]
        }
      ]
    },
    {
      "cell_type": "code",
      "source": [
        "obj=KNeighborsClassifier(n_neighbors=9)\n",
        "obj.fit(xtrain,ytrain)"
      ],
      "metadata": {
        "colab": {
          "base_uri": "https://localhost:8080/"
        },
        "id": "qMpDfflBkxLX",
        "outputId": "c1ee058a-ff05-46cd-99f2-aaacf3cc32fd"
      },
      "execution_count": 177,
      "outputs": [
        {
          "output_type": "execute_result",
          "data": {
            "text/plain": [
              "KNeighborsClassifier(n_neighbors=9)"
            ]
          },
          "metadata": {},
          "execution_count": 177
        }
      ]
    },
    {
      "cell_type": "code",
      "source": [
        "x=[5,8,10]\n",
        "pred = obj.predict([x])\n",
        "print(\"The salary predicted by the model is: \",pred[0])"
      ],
      "metadata": {
        "colab": {
          "base_uri": "https://localhost:8080/"
        },
        "id": "L-wzh331k1qn",
        "outputId": "074f3940-e24f-4ab1-9298-1d102f3b385b"
      },
      "execution_count": 178,
      "outputs": [
        {
          "output_type": "stream",
          "name": "stdout",
          "text": [
            "The salary predicted by the model is:  5000\n"
          ]
        }
      ]
    },
    {
      "cell_type": "code",
      "source": [
        "x=[8,7,6]\n",
        "pred = obj.predict([x])\n",
        "print(\"The salary predicted by the model is: \",pred[0])"
      ],
      "metadata": {
        "colab": {
          "base_uri": "https://localhost:8080/"
        },
        "id": "VNJyrM3Ak2Hb",
        "outputId": "253da3fa-0402-4218-9992-a27da5a187ac"
      },
      "execution_count": 179,
      "outputs": [
        {
          "output_type": "stream",
          "name": "stdout",
          "text": [
            "The salary predicted by the model is:  14000\n"
          ]
        }
      ]
    },
    {
      "cell_type": "markdown",
      "source": [
        "**Question 2**\n",
        "\n",
        "Create a dataset (.csv file) having following features- Graduations percentage,\n",
        "experience of the candidate, written score, interview score and selection. Selection\n",
        "feature is binary in nature and contains the status of the candidate. Also store at least\n",
        "25 records in this dataset.\n",
        "Using this data, build a Bayesian learning model for HR department that can help\n",
        "them to decide whether the candidate will be selected or not. Take 80% data as\n",
        "training data and remaining a testing data randomly. Using the built model, predict\n",
        "the status for the following unseen data:\n",
        "(a) 90 %, 5 Yrs experience, 8 written test score, 10 interview score\n",
        "(b) 75%, 8 Yrs experience, 7 written test score, 6 interview score\n",
        "Also calculate the possible classification metrics for the above cases and save these\n",
        "values in the .CSV file."
      ],
      "metadata": {
        "id": "n2mjoMJtlGx7"
      }
    },
    {
      "cell_type": "code",
      "source": [
        "dataset = pd.read_csv('/content/dataset2.csv')\n",
        "X = dataset.iloc[:, :-1].values #get a copy of dataset exclude last column\n",
        "Y = dataset.iloc[:, -1].values #get array of dataset in last column\n",
        "xtrain, xtest, ytrain, ytest = train_test_split(X,Y, test_size = 0.20) \n",
        "x1=[90,5,8,10]\n",
        "x2=[75,8,7,6]"
      ],
      "metadata": {
        "id": "UaTb3kamlH5N"
      },
      "execution_count": 180,
      "outputs": []
    },
    {
      "cell_type": "code",
      "source": [
        "model = BayesianRidge()\n",
        "model.fit(xtrain, ytrain)"
      ],
      "metadata": {
        "colab": {
          "base_uri": "https://localhost:8080/"
        },
        "id": "aq7AHZX-osSd",
        "outputId": "fa9a65b0-51e5-4897-b67d-a267deb4d7f8"
      },
      "execution_count": 181,
      "outputs": [
        {
          "output_type": "execute_result",
          "data": {
            "text/plain": [
              "BayesianRidge()"
            ]
          },
          "metadata": {},
          "execution_count": 181
        }
      ]
    },
    {
      "cell_type": "code",
      "source": [
        "pred=model.predict([x1])\n",
        "pred1=model.predict([x2])\n",
        "data=[[\"The selection of \"+str(x1)+\" is \"+str(pred[0])],[\"The selection of\"+str(x2)+\"is\",str(pred1[0])]]\n",
        "with open('data.csv', 'w') as f:\n",
        "    writer = csv.writer(f)\n",
        "    writer.writerow(data)"
      ],
      "metadata": {
        "id": "sRFRuEDCo3sm"
      },
      "execution_count": 182,
      "outputs": []
    },
    {
      "cell_type": "markdown",
      "source": [
        "**Question 3**\n",
        "\n",
        "For the IRIS dataset, design a decision tree classifier. Take different percentage of\n",
        "training data and then observe effect on the accuracy and other evaluation parameters.\n",
        "Also note the effect of decision tree parameters (like max depth, min_sample_spit\n",
        "etc.) on the performance of the model.\n",
        "Note: Take criterion as entropy."
      ],
      "metadata": {
        "id": "JqFWAQ_vpp6e"
      }
    },
    {
      "cell_type": "code",
      "source": [
        "iris = datasets.load_iris() # loading of the iris dataset\n",
        "X=iris.data[:,:4]\n",
        "Y=iris.target"
      ],
      "metadata": {
        "id": "MQIOGzXcpr3v"
      },
      "execution_count": 183,
      "outputs": []
    },
    {
      "cell_type": "code",
      "source": [
        "X_train, X_test, y_train, y_test = train_test_split( X, Y, test_size = 0.19,random_state=100)"
      ],
      "metadata": {
        "id": "WdmctDalzyN5"
      },
      "execution_count": 184,
      "outputs": []
    },
    {
      "cell_type": "code",
      "source": [
        "clf_entropy = DecisionTreeClassifier(criterion = \"entropy\", random_state = 100,max_depth = 100, min_samples_leaf = 15)\n",
        "clf_entropy.fit(X_train,y_train)"
      ],
      "metadata": {
        "colab": {
          "base_uri": "https://localhost:8080/"
        },
        "id": "_bNHTlU90D5n",
        "outputId": "8f7911e6-5bac-46c8-d82b-54e683e09c5c"
      },
      "execution_count": 185,
      "outputs": [
        {
          "output_type": "execute_result",
          "data": {
            "text/plain": [
              "DecisionTreeClassifier(criterion='entropy', max_depth=100, min_samples_leaf=15,\n",
              "                       random_state=100)"
            ]
          },
          "metadata": {},
          "execution_count": 185
        }
      ]
    },
    {
      "cell_type": "code",
      "source": [
        "y_pred = clf_entropy.predict(X_test)"
      ],
      "metadata": {
        "id": "1UNc5ulo0eWQ"
      },
      "execution_count": 186,
      "outputs": []
    },
    {
      "cell_type": "code",
      "source": [
        "print(\"Accuracy : \",accuracy_score(y_test,y_pred)*100)"
      ],
      "metadata": {
        "colab": {
          "base_uri": "https://localhost:8080/"
        },
        "id": "68xJZpEd0qdA",
        "outputId": "24f2081b-713d-4e18-c63c-7458c93db6f5"
      },
      "execution_count": 187,
      "outputs": [
        {
          "output_type": "stream",
          "name": "stdout",
          "text": [
            "Accuracy :  96.55172413793103\n"
          ]
        }
      ]
    },
    {
      "cell_type": "markdown",
      "source": [
        "**Question 4**\n",
        "\n",
        "Compare the performance of KNN, Bayesian Classifier and Decision Tree model on\n",
        "the diabetes dataset. For this comparison, you can take different possible parameters\n",
        "of particular model. Save outputs in a .csv file."
      ],
      "metadata": {
        "id": "B9db58J94G-C"
      }
    },
    {
      "cell_type": "code",
      "source": [
        "dataset = pd.read_csv('/content/diabetes.csv')\n",
        "X = dataset.iloc[:, :-1].values #get a copy of dataset exclude last column\n",
        "Y = dataset.iloc[:, -1].values #get array of dataset in last column\n",
        "\n",
        "xtrain, xtest, ytrain, ytest = train_test_split(X,Y, test_size = 0.10,random_state = 100) "
      ],
      "metadata": {
        "id": "Ax1aridF4Jof"
      },
      "execution_count": 188,
      "outputs": []
    },
    {
      "cell_type": "markdown",
      "source": [
        "KNN"
      ],
      "metadata": {
        "id": "REeuwVgJ6fHR"
      }
    },
    {
      "cell_type": "code",
      "source": [
        "knn=KNeighborsClassifier(n_neighbors=7)\n",
        "knn.fit(xtrain,ytrain)"
      ],
      "metadata": {
        "colab": {
          "base_uri": "https://localhost:8080/"
        },
        "id": "Hw7ybMcT6euF",
        "outputId": "4b1ea564-1b53-4874-dbb8-b3541d48cb90"
      },
      "execution_count": 189,
      "outputs": [
        {
          "output_type": "execute_result",
          "data": {
            "text/plain": [
              "KNeighborsClassifier(n_neighbors=7)"
            ]
          },
          "metadata": {},
          "execution_count": 189
        }
      ]
    },
    {
      "cell_type": "markdown",
      "source": [
        "Bayesian"
      ],
      "metadata": {
        "id": "kn3AzWb28ald"
      }
    },
    {
      "cell_type": "code",
      "source": [
        "bayesian=BayesianRidge()\n",
        "bayesian.fit(xtrain,ytrain)"
      ],
      "metadata": {
        "colab": {
          "base_uri": "https://localhost:8080/"
        },
        "id": "7PvABO938aPy",
        "outputId": "ec6b036e-332a-407f-bb60-b60fc5202548"
      },
      "execution_count": 190,
      "outputs": [
        {
          "output_type": "execute_result",
          "data": {
            "text/plain": [
              "BayesianRidge()"
            ]
          },
          "metadata": {},
          "execution_count": 190
        }
      ]
    },
    {
      "cell_type": "markdown",
      "source": [
        "Decision Tree"
      ],
      "metadata": {
        "id": "GXzCs8Hi8n43"
      }
    },
    {
      "cell_type": "code",
      "source": [
        "decision = DecisionTreeClassifier(criterion = \"entropy\", random_state = 100,max_depth = 100, min_samples_leaf = 15)\n",
        "decision.fit(xtrain,ytrain)"
      ],
      "metadata": {
        "colab": {
          "base_uri": "https://localhost:8080/"
        },
        "id": "5qE7gK4H8p28",
        "outputId": "1e8fbd81-8bed-40e3-f67c-10c08d822e0d"
      },
      "execution_count": 191,
      "outputs": [
        {
          "output_type": "execute_result",
          "data": {
            "text/plain": [
              "DecisionTreeClassifier(criterion='entropy', max_depth=100, min_samples_leaf=15,\n",
              "                       random_state=100)"
            ]
          },
          "metadata": {},
          "execution_count": 191
        }
      ]
    },
    {
      "cell_type": "code",
      "source": [
        "kpred=knn.predict(xtest)\n",
        "bpred=bayesian.predict(xtest)\n",
        "dpred=decision.predict(xtest)\n",
        "\n",
        "print(\"Accuracy using KNN :\",accuracy_score(kpred,ytest)*100)\n",
        "print(\"Accuracy using Bayesian :\",accuracy_score(np.round((bpred)),ytest)*100)\n",
        "print(\"Accuracy using Decision :\",accuracy_score(dpred,ytest)*100)\n",
        "\n",
        "data=[\"The selection using KNN is \\n\"+str(kpred),\n",
        "      \"The selection using Bayesian Learning Model is \\n\"+str(bpred),\n",
        "      \"The selection using Decision Tree is \\n\"+str(dpred)]\n",
        "with open('data4.csv', 'w',encoding=\"UTF\") as f:\n",
        "    writer = csv.writer(f)\n",
        "    writer.writerow(data)\n",
        "\n",
        "print(\"The output using various methods is: \")\n",
        "print(data[0])\n",
        "print(data[1])\n",
        "print(data[2])"
      ],
      "metadata": {
        "id": "V2vT02xz9fH7",
        "colab": {
          "base_uri": "https://localhost:8080/"
        },
        "outputId": "92bee043-8383-48b8-8cca-c7f0c2ccf78c"
      },
      "execution_count": 192,
      "outputs": [
        {
          "output_type": "stream",
          "name": "stdout",
          "text": [
            "Accuracy using KNN : 72.72727272727273\n",
            "Accuracy using Bayesian : 77.92207792207793\n",
            "Accuracy using Decision : 77.92207792207793\n",
            "The output using various methods is: \n",
            "The selection using KNN is \n",
            "[0 0 1 0 0 1 1 0 1 0 0 1 1 0 0 0 0 0 0 0 0 0 0 1 0 0 1 1 0 0 0 1 0 0 0 0 0\n",
            " 0 0 0 0 1 0 0 0 1 0 0 1 1 0 0 1 1 0 1 0 0 1 0 0 0 0 0 0 0 0 0 0 0 0 1 0 0\n",
            " 0 0 0]\n",
            "The selection using Bayesian Learning Model is \n",
            "[ 0.1885209   0.11368979  0.68175114  0.10514001  0.47661327  0.65483302\n",
            "  0.94932116  0.18757508  0.77277422  0.3004411   0.14031056  0.77550335\n",
            "  0.38779394  0.25073357  0.70841118  0.35793667  0.08583061  0.29880324\n",
            "  0.5097061   0.20462211  0.32966771 -0.13561068  0.54280659  0.95772116\n",
            "  0.21638377  0.63869367  0.4423711   0.38271025  0.45706994  0.62685463\n",
            " -0.02123701  0.98284333  0.06072531  0.60641054  0.10770792  0.32136962\n",
            "  0.82555602  0.02013938  0.29266149  0.39674372  0.38430002  0.72064245\n",
            "  0.38349407  0.16840215  0.3715959   0.92218661  0.15705596  0.29101161\n",
            "  0.76961752  0.84362899  0.12707795 -0.01110041  0.40584089  0.71514459\n",
            "  0.55324801  0.65282598  0.11901183  0.1176706   0.79399117  0.17651097\n",
            "  0.26608016  0.25190917  0.33925937  0.36413556  0.34389292  0.27566435\n",
            "  0.2482941  -0.04015767  0.17371746 -0.02045152 -0.00192533  0.64512736\n",
            "  0.24539548  0.34371208  0.26592888  0.30786642  0.47350796]\n",
            "The selection using Decision Tree is \n",
            "[0 0 1 0 0 1 1 0 1 0 0 1 1 0 1 0 0 0 0 0 0 0 1 1 0 1 0 0 0 1 0 1 0 0 0 0 1\n",
            " 0 0 0 0 1 1 0 0 1 0 0 1 1 0 0 0 1 1 1 0 0 1 0 0 0 0 0 0 0 0 0 0 0 0 1 0 0\n",
            " 0 0 0]\n"
          ]
        }
      ]
    }
  ]
}